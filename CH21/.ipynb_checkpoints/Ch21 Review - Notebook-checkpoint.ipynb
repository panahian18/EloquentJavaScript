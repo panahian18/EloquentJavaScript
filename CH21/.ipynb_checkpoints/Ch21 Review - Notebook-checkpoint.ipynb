{
 "cells": [
  {
   "cell_type": "markdown",
   "metadata": {},
   "source": [
    "In this final project chapter, our goal is to set up a website for managing talks given at a skill-sharing meeting. We want a system that will let the participants propose and discuss talks among themselves, without a central organizer.\n",
    "\n",
    "## Design\n",
    "\n",
    "There is a server part to this project, written for Node.js, and a client part written for the browser. The server keeps the list of talks proposed for the next meeting, and the client shows the list. Each talk has a presenter name, a title, and an array of comments associated with it. The client allows users to propose new talks. (adding them to the list), delete talks, and comment on existing talks. Whenever the user makes such a change, the client makes an HTTP request. \n",
    "\n",
    "This project requires that whenever someone submits a new talk or adds a comment all people who have the page open in their browser should immediately see the change. A solution to this problem is called long polling.\n",
    "\n",
    "## Long Polling\n",
    "\n",
    "In order to notify a client that something has changed, we need a connection to  that client. However, browsers do not accept connections, and routers would block them anyway. Instead of having a server making a connection with the client, we have a client keep a connection open and keep it around so that the server can send information when it needs to.\n",
    "\n",
    "Normally, a client makes a simple HTTP request and the server comes back with a single response. Although we could use WebSockets, we will keep it simple and instead use long polling, where clients continuously ask the server for new information using regular HTTP requests, and the server stalls in its answer when it has nothing new to report. E.g. when a user has the site open in their browser, the browser will make a request for updates and will be waiting for a response to that request. When another user posts a new talk, the server will notice that the first user is waiting for an update and will send a response containing the new talk.\n",
    "\n",
    "To prevent connections from timing out (aborted due to lack of activity), long polling techniques usually set a maximum time for each request, after which the server will respond anyway, event when it has nothing to report, after which the client will make a new request. Periodically restarting the request also makes the technique more robust, allowing clients to recover from temporary connection failures or server problems.\n",
    "\n",
    "A GET reqeuest to /talks returns a JSON document like this:\n",
    "\n",
    "```\n",
    "[{\n",
    "\"title\": \"Unituning\",\n",
    "\"presenter\": \"Jamal\",\n",
    "\"summary\": \"Modifying your cycle for extra style\",\n",
    "\"comments\": []\n",
    "}]\n",
    "```\n",
    "\n",
    "We create a new talk by making a PUT request to a URL like /talks/Unituning, where the part after the second slash is the title of the talk. The PUT request body then should contain a JSON object that has presenter and summary properties. The talk titles need to be encoded with the encodeURIComponent function when building a URL since some characters, like spaces, may not appear normally. \n",
    "\n",
    "A sample request to create a talk\n",
    "\n",
    "```\n",
    "PUT /talks/How%20toIdle%20Idle HTTP/1.1\n",
    "Content-Type: application/json\n",
    "Content-Length: 92\n",
    "\n",
    "{\"presenter\": \"Maureen\",\n",
    " \"summary\": \"Standing still on a unicycle\"}\n",
    "```\n",
    "\n",
    "Such urls also support GET requests to retrieve the JSON representation of a talk and DELETE requests to delete a talk. \n",
    "\n",
    "Adding a comment to a talk is done with a POST request to a URL like /talks/Unituning/comments, with a JSON body that has author and message properties.\n",
    "\n",
    "```\n",
    "POST /talks/Unituning/comments HTTP/1.1\n",
    "Content-Type: application/json\n",
    "Content-Length: 72\n",
    "\n",
    "{\"author\": \"Iman\",\n",
    " \"message\": \"Will you talk about...\"}\n",
    "```\n",
    "\n",
    "In order to support long polling, we need 2 extra headers to notify the server to delay responses if no new information is available, ETag and If-None-Match. Servers use ETag (entity tag) header in a response, which has a value as a string that identifies the current version of the resource. When clients later make a request, they may make a conditional request by including an If-None-Match header whose value holds that same string. If the resource hasn't changed the server will respond with code 304, which means \"not modified\", telling the client that the cached version is still current. When the tag does not match, the server responds as normal. \n",
    "\n",
    "This mechanism allows the client to tell the server what version of the list of talks it has, and the server responds only when that list has changed. However, instead of returning a 304 response, the server instead stalls the response and only returns only when something new is available or a given amount of time has elapsed. We provide another header, Prefer: wait=90, which tells the server that the client is willing to wait up to 90 seconds for the response. The server will keep a version number that it updates every time the talks change and use that as the ETag value. Clients can make requests like this to be notified when the talks change:\n",
    "\n",
    "```\n",
    "GET /talks HTTP/1.1\n",
    "If-None-Match: \"4\"\n",
    "Prefer: wait=90\n",
    "\n",
    "(time passes)\n",
    "\n",
    "HTTP/1.1 200 OK\n",
    "Content-Type: applicaiton/json\n",
    "ETag: \"5\"\n",
    "Content-Length: 295\n",
    "\n",
    "[...]\n",
    "```\n",
    "\n",
    "Note: the application here does not do any access control, everyone can comment, modify, or delete talks.\n",
    "\n",
    "\n",
    "# The Server\n",
    "\n",
    "In this section we will build the server-side part of the program, this code section runs on Node.js.\n",
    "\n",
    "## Routing\n",
    "\n",
    "Our server will use \"createServer\" to start an HTTP server. Before we can handle any new requests, we must be able to distinguish between the various kinds of requests (as determined by the method and the path) that we support. Instead of writing a long chain of if statements, we will use a router, which is a component that helps dispatch a request to a function that can handle it. E.g. you can tell a router that PUT requests with a path that matches the regular expression `/^\\/talks/\\([^\\/]+)$/` (/talks/ followed by a talk title) can be handled by a given function. In addition, it can help extract meaningful parts of the path (in this case the talk title), wrapped in parentheses in the regular expression, and pass them to the handler function. \n",
    "\n",
    "Here we write a router called router.js, which we will later require from our server."
   ]
  },
  {
   "cell_type": "code",
   "execution_count": null,
   "metadata": {},
   "outputs": [],
   "source": [
    "const { parse } = require(\"url\");\n",
    "\n",
    "module.exports = class Router {\n",
    "    constructor() {\n",
    "        this.routes = []; // add an array of routes to our states\n",
    "    }\n",
    "    add(method, url, handler) { // method to add handlers for given method & url \n",
    "        this.routes.push({ method, url, handler }); // add method, url, and handler\n",
    "    }\n",
    "    resolve(context, request) { // resolve requests with given request and context (which will be the server instance)\n",
    "        let path = parse(request.url).pathname // get the url from the request\n",
    "        \n",
    "        for (let {method, url, handler} of this.routes) { // iterate through all of the routes            let match = url.exec(path);\n",
    "            let match = url.exec(path);  // if the url matches, and.. \n",
    "            if (!match || request.method != method) continue;  // the method matches\n",
    "            let urlParts = match.slice(1).map(decodeURIComponent);  // decode all of the strings\n",
    "            return handler(context, ...urlParts, request);  // return a response by calling the handler\n",
    "        }\n",
    "        return null;\n",
    "    }\n",
    "}"
   ]
  },
  {
   "cell_type": "markdown",
   "metadata": {},
   "source": [
    " ## Serving Files\n",
    " \n",
    "When the request matches none of the request types defined in our router, the server must interpret it as a request for a file in the public directory. Here we use the static file server \"ecstatic\", whose package exports a function that can be called with a configuration object to produce a request handler function.  "
   ]
  },
  {
   "cell_type": "code",
   "execution_count": null,
   "metadata": {},
   "outputs": [],
   "source": [
    "const { createServer } = require(\"http\");\n",
    "const Router = require(\"./router\");\n",
    "const ecstatic = require(\"ecstatic\");\n",
    "\n",
    "const router = new Router();\n",
    "const defaultHeaders = { \"Content-Type\": \"text/plain\"};\n",
    "\n",
    "class SkillShareServer {\n",
    "    constructor(talks) {\n",
    "        this.talks = talks;\n",
    "        this.version = 0;\n",
    "        this.waiting = [];\n",
    "        \n",
    "        let fileServer = ecstatic({ root: \"./public\" });\n",
    "        this.server = createServer({ request, response } => {\n",
    "            let resolved = router.resolve(this, request);\n",
    "            if (resolved) {\n",
    "                resolved.catch(error => {\n",
    "                    if (error.status != null) return error;\n",
    "                    return {body: String(error), status: 500};\n",
    "                }).then({ body,\n",
    "                    status = 200,\n",
    "                    headers = defaultHeaders } => {\n",
    "                    response.writeHead(status, headers);\n",
    "                    response.end(body);\n",
    "                });\n",
    "            } else { \n",
    "                fileServer(request, response);\n",
    "            }\n",
    "        });\n",
    "    }\n",
    "    start(port) {\n",
    "        this.server.listen(port);\n",
    "    }\n",
    "    stop() {\n",
    "        this.server.close();\n",
    "    }\n",
    "}\n",
    "    "
   ]
  },
  {
   "cell_type": "markdown",
   "metadata": {},
   "source": [
    "## Talks as Resources\n",
    "\n",
    "The talks that have been proposed are stored in the talks property of the server, an object whose property names are the talk titles. These will be exposed as http resources under `/talks/[title]`, so we need to add handlers to our router that implement the various methods that clients can use to work with them.\n",
    "\n",
    "The handler for GET requests for a single talk must look up the talk and respond either with the talk's JSON data or with a 404 error response. "
   ]
  },
  {
   "cell_type": "code",
   "execution_count": null,
   "metadata": {},
   "outputs": [],
   "source": [
    "const talkPath = /^\\/talks\\/([^\\/]+)&/;\n",
    "\n",
    "router.add(\"GET\", talkPath, async (server, title) => {\n",
    "    if (title in server.talks) {\n",
    "        return { body: JSON.stringify(server.talks[title]),\n",
    "               headers: { \"Content-Type\": \"application/json\"}\n",
    "        };\n",
    "    } else {\n",
    "        return { status: 404, body: `No talk '${title}' found` }\n",
    "    }\n",
    "});"
   ]
  },
  {
   "cell_type": "code",
   "execution_count": null,
   "metadata": {},
   "outputs": [],
   "source": [
    "// Deleting a talk is done by removing it from the talks object\n",
    "\n",
    "router.add(\"DELETE\", talkPath, async(server, title) => {\n",
    "    if (title in server.talks) {\n",
    "        delete server.talks[title];\n",
    "        server.updated();\n",
    "    }\n",
    "    return {status: 204};\n",
    "});"
   ]
  },
  {
   "cell_type": "markdown",
   "metadata": {},
   "source": [
    "To retrieve the content of a request body, we define a function called readStream, which reads all content from a readable stream and returns a promise that resolves to a string."
   ]
  },
  {
   "cell_type": "code",
   "execution_count": null,
   "metadata": {},
   "outputs": [],
   "source": [
    "function readStream(stream) {\n",
    "    return new Promise((resolve, reject) => {\n",
    "        let data = \"\";\n",
    "        stream.on(\"error\", reject);\n",
    "        stream.on(\"data\", chunk => data += chunk.toString());\n",
    "        stream.on(\"end\", () => resolve(data));\n",
    "    });\n",
    "}"
   ]
  },
  {
   "cell_type": "markdown",
   "metadata": {},
   "source": [
    "We use PUT requests to add new talks, the PUT handler uses the readStream to read request bodies to check if the data has presenter and summary properties, which are strings. We need to perform this check before committing the data to our store since we may receive any type of nonesense data. "
   ]
  },
  {
   "cell_type": "code",
   "execution_count": null,
   "metadata": {},
   "outputs": [],
   "source": [
    "router.add(\"PUT\", talkPath, async (server, title, request) => {\n",
    "    let requestBody = await readStream(request);\n",
    "    let talk;\n",
    "    try { talk = JSON.parse(requestBody); }\n",
    "    catch(_) { return {status: 400, body: \"Invalid JSON\"}; }\n",
    "    if (!talk ||\n",
    "        typeof talk.presenter != \"string\" ||\n",
    "        typeof talk.summary != \"string\") {\n",
    "        return {status: 400, body: \"Bad talk data\"};\n",
    "    }\n",
    "    server.talks[title] = {\n",
    "        title, \n",
    "        presenter: talk.presenter,\n",
    "        summary: talk.summary,\n",
    "        comments: []\n",
    "    };\n",
    "    server.updated();\n",
    "    return {status: 204};\n",
    "});"
   ]
  },
  {
   "cell_type": "markdown",
   "metadata": {},
   "source": [
    "Adding a comment to a talk works similarly. We use readStream to get the content of the request, validate the resulting data, and store it as a comment when it looks valid."
   ]
  },
  {
   "cell_type": "code",
   "execution_count": null,
   "metadata": {},
   "outputs": [],
   "source": [
    "router.add(\"POST\", /^\\/talks\\/([^\\/]+)\\/comments$/,\n",
    "    async (server, title, request) => {\n",
    "    let requestBody = await readStream(request);\n",
    "    let comment;\n",
    "    try { comment = JSON.parse(requestBody); }\n",
    "    catch (_) { return { status: 400, body: \"Invalid JSON\"}; }\n",
    "    \n",
    "    if (!comment ||\n",
    "       typeof comment.author != \"string\" ||\n",
    "       typeof comment.message != \"string\") {\n",
    "        return {status: 400, body: \"Invalid comment\"}\n",
    "    } else if (title in server.talks) {\n",
    "        server.talks[title].comments.push(comment);\n",
    "        server.updated();\n",
    "        return { status: 204 };\n",
    "    } else {\n",
    "        return { status: 404, body: `No talk ${title} found` };\n",
    "    }\n",
    "});"
   ]
  },
  {
   "cell_type": "markdown",
   "metadata": {},
   "source": [
    "## Long Polling Support\n",
    "\n",
    "When a GET request comes in for /talks, it may be a regular request or a long polling request. Because we have to send the array of talks in many places, we define a helper function that includes an ETag in response:"
   ]
  },
  {
   "cell_type": "code",
   "execution_count": null,
   "metadata": {},
   "outputs": [],
   "source": [
    "SkillShareServer.prototype.talkResponse = function() {\n",
    "    let talks = [];\n",
    "    for (let title of Object.keys(this.talks)) {\n",
    "        talks.push(this.talks[title]);\n",
    "    }\n",
    "    return {\n",
    "        body: JSON.stringify(talks),\n",
    "        headers: {\n",
    "            \"Content-Type\": \"application/json\",\n",
    "            \"ETag\": `\"${this.version}\"`\n",
    "        }\n",
    "    };\n",
    "};"
   ]
  },
  {
   "cell_type": "markdown",
   "metadata": {},
   "source": [
    "The handler itself needs to look at the request headers to see whether If-None-Match and Prefer headers are present. Node stores headers, whose names are specified to be case insensitive, under their lowercase names."
   ]
  },
  {
   "cell_type": "code",
   "execution_count": null,
   "metadata": {},
   "outputs": [],
   "source": [
    "router.add(\"GET\", /^\\/talks$/, async (server, response) => {\n",
    "    let tag = /\"(.*)\"\"/.exec(request.headers[\"if-none-match\"]);\n",
    "    let wait = /\\bwait=(\\d+)/.exec(request.headers[\"prefer\"]);\n",
    "    if (!tag || tag[1] != server.version) {\n",
    "        return talkResponse();\n",
    "    } else if (!wait) {\n",
    "        return { status: 304 }\n",
    "    } else {\n",
    "        return server.waitForChanges(Number(wait[1]));\n",
    "    }\n",
    "});"
   ]
  },
  {
   "cell_type": "markdown",
   "metadata": {},
   "source": [
    "This function first checks if there are ETag and prefer headers, then it checks if there is a valid tag that is equal to the server's version number, if there isn't then it returns the list of talks. If there is a valid \"if-none-match\" tag and it matches the server version and there isn't a wait tag then it just returns a 304 status. Otherwise, if there is a wait tag, it will call the server's waitForChanges method with the value of the wait tag.\n",
    "\n",
    "Callback functions are stored in the server's waiting array so that they can be notified when something happens. The waitForChanges method also immediately sets a timer to respond with a 304 status when the request has waited too enough."
   ]
  },
  {
   "cell_type": "code",
   "execution_count": null,
   "metadata": {},
   "outputs": [],
   "source": [
    "SkillShareServer.prototype.waitForChanges = function(time) {\n",
    "    return new Promise(resolve => {\n",
    "        this.waiting.push(resolve);\n",
    "        setTimeout(() => {\n",
    "            if (!this.waiting.includes(resolve)) return;\n",
    "            this.waiting = this.waiting.filter(r => r != resolve);\n",
    "            resolve({status: 304});\n",
    "        }, time * 1000);\n",
    "    });\n",
    "};"
   ]
  },
  {
   "cell_type": "markdown",
   "metadata": {},
   "source": [
    "Registering a change with updated increases the version property and wakes up all waiting requests. "
   ]
  },
  {
   "cell_type": "code",
   "execution_count": null,
   "metadata": {},
   "outputs": [],
   "source": [
    "SkillShareServer.prototype.updated = function() {\n",
    "    this.version++;\n",
    "    let response = talkResponse();\n",
    "    this.waiting.forEach(resolve => resolve(response));\n",
    "    this.waiting = [];\n",
    "}"
   ]
  },
  {
   "cell_type": "markdown",
   "metadata": {},
   "source": [
    "This concludes the server code. If we create an instance of SkillShareServer and start it on port 8000, the resulting HTTP server serves files from the public subdirectory alondside a talk-managing interface under the /talks URL."
   ]
  },
  {
   "cell_type": "code",
   "execution_count": null,
   "metadata": {},
   "outputs": [],
   "source": [
    "new SkillShareServer(Object.create(null)).start(8000);"
   ]
  },
  {
   "cell_type": "markdown",
   "metadata": {},
   "source": [
    "# The Client\n",
    "\n",
    "The client-side part of the skill-sharing website consists of three files: an HTML page, a style sheet, and a JavaScript file.\n",
    "\n",
    "## HTML\n",
    "\n",
    "It is a widely used convention for servers to serve a file named index.html when a request is made directly to a path that corresponds to a directory. When a request is made to the path /. the server looks for the file ./public/index.html (./public being the root we gave it) and returns that file if found. Thus, if we want a page to show up when a browser is pointed at our server, we should put it in public/index.html. This is our index file:\n",
    "\n",
    "```\n",
    "<!doctype html>\n",
    "<meta charset=\"utf-8\">\n",
    "<title>Skill Sharing</title>\n",
    "\n",
    "<h1>Skill Sharing</h1>\n",
    "\n",
    "<script src=\"skillsharing_client.js\"></script>\n",
    "```\n",
    "\n",
    "## Actions\n",
    "\n",
    "The state of the application consists of the list of talks and the name of the user, which we store in a {talks, user} object. We don't allow the user to directly manipulate the state or send off HTTP requests, instead the user emits actions that describe what the user is trying to do.\n",
    "\n",
    "The handleAction function takes such an action and makes it happen, because our state is so simple, the state changes are handled in the same function. "
   ]
  },
  {
   "cell_type": "code",
   "execution_count": null,
   "metadata": {},
   "outputs": [],
   "source": [
    "function handleAction(state, action) {\n",
    "    if (action.type == \"setUser\") {\n",
    "        localStorage.setItem(\"userName\", action.user);\n",
    "        return Object.assign({}, state, { user: action.user });\n",
    "    } else if (action.type == \"setTalks\") {\n",
    "        return Object.assign({}, state, { talks: action.talks });\n",
    "    } else if (action.type == \"newTalks\") {\n",
    "        fetchOK(talkURL(action.title), {\n",
    "            method: \"PUT\",\n",
    "            headers: { \"Content-Type\": \"application/json\" },\n",
    "            body:  JSON.stringify({\n",
    "                       presenter: state.user,\n",
    "                       summary: action.summary\n",
    "                  })\n",
    "        }).catch(reportError);\n",
    "    } else if (action.type == \"deleteTalk\") {\n",
    "        fetchOK(talkURL(action.talk), { method: \"DELETE\" })\n",
    "            .catch(reportError);\n",
    "    } else if (action.type == \"newComment\") {\n",
    "        fetchOK(talkURL(action.talk) + \"/comments\", {\n",
    "            method: \"POST\",\n",
    "            headers: { \"Content-Type\": \"application/json\" },\n",
    "            body: JSON.stringify({\n",
    "                author: state.user,\n",
    "                message: action.message\n",
    "            })\n",
    "        }).catch(reportError);\n",
    "    }\n",
    "    return state;\n",
    "}"
   ]
  },
  {
   "cell_type": "markdown",
   "metadata": {},
   "source": [
    "The user's name is stored in localStorage so that it can be restored when the page is loaded. The actions that need to involve the server make network requests using fetch, to the HTTP interface described earlier. We use a wrapper function fetchOK, which makes sure the returned promise is rejected when the server returns an error code. "
   ]
  },
  {
   "cell_type": "code",
   "execution_count": null,
   "metadata": {},
   "outputs": [],
   "source": [
    "function fetchOK(url, options) {\n",
    "    return fetch(url, options).then(response => {\n",
    "        if (response < 400) return response;\n",
    "        else throw new Error(response.statusText);\n",
    "    });\n",
    "}\n",
    "\n",
    "// This helper function is used to build up a URL for a talk with a given title.\n",
    "\n",
    "function talkURL(title) {\n",
    "    return \"talks/\" + encodeURIComponent(title);\n",
    "}"
   ]
  },
  {
   "cell_type": "markdown",
   "metadata": {},
   "source": [
    "When the request fails, we want the user to be informed instead of having our page show no notification of the failure. So we define a function called reportError, which shows a dialog that tells the user something that went wrong."
   ]
  },
  {
   "cell_type": "markdown",
   "metadata": {},
   "source": [
    "## Rendering Components\n",
    "\n",
    "Here we break the application down into components, some as classes, but those that never update or are always redrawn when updated, as functions that directly return a DOM node. E.g. the following is a component that shows the field where the user can enter their name:"
   ]
  },
  {
   "cell_type": "code",
   "execution_count": null,
   "metadata": {},
   "outputs": [],
   "source": [
    "function renderUserField(name, dispatch) {\n",
    "    elt(\"label\", {}, \"Your name: \", elt(\"input\", {\n",
    "        type: \"text\",\n",
    "        value: name,\n",
    "        onChange(event) {\n",
    "            dispatch({ type: \"setUser\", user: event.target.value });\n",
    "        }\n",
    "    }));\n",
    "}"
   ]
  },
  {
   "cell_type": "code",
   "execution_count": null,
   "metadata": {},
   "outputs": [],
   "source": [
    "// The following is used to render talks, which includes a list of comments \n",
    "// and a form for adding a new comment.\n",
    "\n",
    "function renderTalk(talk, dispatch) {\n",
    "    return elt(\n",
    "        \"section\", {className: \"talk\"},\n",
    "        elt(\"h2\", null, talk.title, \" \", elt(\"button\", {\n",
    "            type: \"button\",\n",
    "            onclick() {\n",
    "                dispatch({type: \"deleteTalk\", talk: talk.title});\n",
    "            }\n",
    "        }, \"Delete\")),\n",
    "        elt(\"div\", null, \"by \",\n",
    "            elt(\"strong\", null, talk.presenter)),\n",
    "        elt(\"p\", null, talk.summary),\n",
    "        ...talk.comments.map(renderComment),\n",
    "         elt(\"form\", {\n",
    "             onsubmit(event) {\n",
    "                 event.preventDefault();\n",
    "                 \n",
    "                 let form = event.target;\n",
    "                 dispatch({type: \"newComment\",\n",
    "                           talk: talk.title,\n",
    "                           message: form.elements.comment.value});\n",
    "                 form.reset();\n",
    "             }\n",
    "         }, elt(\"input\", {type: \"text\", name: \"comment\"}), \" \",\n",
    "            elt(\"button\", {type: \"submit\"}, \"Add comment\")));\n",
    "}"
   ]
  },
  {
   "cell_type": "markdown",
   "metadata": {},
   "source": [
    "The submit event handler calls form.reset to clear the form's content after creating a newComment action.\n",
    "\n",
    "The method we are using to render our program is long and verbose. An alternative is to use a JavaScript extension called JSX that allows you to write HTML in your JavaScript."
   ]
  },
  {
   "cell_type": "code",
   "execution_count": null,
   "metadata": {},
   "outputs": [],
   "source": [
    "function renderComment(comment) {\n",
    "    return elt(\"p\", {className: \"comment\"},\n",
    "              elt(\"strong\", null, comment.author),\n",
    "              \": \", comment.message);\n",
    "}"
   ]
  },
  {
   "cell_type": "code",
   "execution_count": null,
   "metadata": {},
   "outputs": [],
   "source": [
    "// THe form that users can use to create a new talk is rendered like so:\n",
    "\n",
    "function renderTalkForm(dispatch) {\n",
    "    let title = elt(\"input\", {type: \"text\"});\n",
    "    let summary = elt(\"input\", {type: \"text\"});\n",
    "    return elt({\"form\",\n",
    "               onsubmit(event) {\n",
    "                   event.preventDefault();\n",
    "                   \n",
    "                   dispatch({\n",
    "                       type: \"newTalk\",\n",
    "                       title: title.value,\n",
    "                       summary: summary.value});\n",
    "                   event.target.reset();\n",
    "                }\n",
    "            }, elt(\"h3\", null, \"Submit a Talk\"),\n",
    "              elt(\"label\", null, \"Title: \", title),\n",
    "              elt(\"label\", null, \"Summary: \", summary),\n",
    "              elt(\"button\", {type: \"submit\"}, \"Submit\"));\n",
    "}"
   ]
  },
  {
   "cell_type": "markdown",
   "metadata": {},
   "source": [
    "## Polling\n",
    "\n",
    "To start the app we need the current list of talks. Here we wrap the long polling process with the initial load of talks since they are closely related. We take the ETag from the load and set it for future loads."
   ]
  },
  {
   "cell_type": "code",
   "execution_count": null,
   "metadata": {},
   "outputs": [],
   "source": [
    "async function pollTalks(update) {\n",
    "    let tag = undefined;\n",
    "    for(;;) {\n",
    "        let response = await fetchOK(\"/talks\",\n",
    "                headers: tag && {\"If-None-Match\": tag,\n",
    "                                     \"Prefer\": \"wait=90\"\n",
    "        }).catch(e) {\n",
    "            console.log(\"Request failed: \", e);\n",
    "            await new Promise(resolve => {setTimeout(resolve, 500)});\n",
    "            continue;\n",
    "        }\n",
    "        if (response.status == 304) continue;\n",
    "        tag = resoponse.headers.get(\"ETag\");\n",
    "        update(await response.json());\n",
    "    }\n",
    "}"
   ]
  },
  {
   "cell_type": "markdown",
   "metadata": {},
   "source": [
    "This is an sync function so that looping an waiting for the requets is easier. It runs an infinite loop that, on each iteration, retrieves the list of talks - either normally or, if this isn't the first request, with the headers included that make it a long polling request. \n",
    "\n",
    "When a request fails, it waits a moment and then tries again. The promise resolved via setTimeout is a way to force the async function to wait. \n",
    "\n",
    "When the server gives back a 304 response, that means a long polling request timed out, so the function should just immediately start the next request. If the response is a normal 200 response, its body is read as JSON and passed to the callback, and its ETag header value is stored for the next iteration. "
   ]
  },
  {
   "cell_type": "markdown",
   "metadata": {},
   "source": [
    "## The Application\n",
    "\n",
    "The following component ties the whole user interface together:"
   ]
  },
  {
   "cell_type": "code",
   "execution_count": null,
   "metadata": {},
   "outputs": [],
   "source": [
    "class SkillShareApp {\n",
    "    constructor(state, dispatch) {\n",
    "        this.dispatch = dispatch;\n",
    "        this.talkDOM = elt(\"div\", {className: \"talks\"});\n",
    "        this.dom = elt(\"div\", null,\n",
    "                      renderUserField(state.user, dispatch),\n",
    "                      this.talkDOM,\n",
    "                      renderTalkForm(dispatch));\n",
    "        this.syncState(state);\n",
    "    }\n",
    "    \n",
    "    syncState(state) {\n",
    "        if (state.talks != this.talks) {\n",
    "            this.talkDOM.textContent = \"\";\n",
    "            for (let talk of state.talks) {\n",
    "                this.talkDOM.appendChild(\n",
    "                    renderTalk(talk, this.dispatch));\n",
    "            }\n",
    "        this.talks = state.talks;\n",
    "        }\n",
    "    }\n",
    "}\n",
    "\n",
    "\n",
    "function runApp() {\n",
    "    let user = localStorage.getItem(\"userName\" || \"Anon\");\n",
    "    let state, app;\n",
    "    function dispatch(action) {\n",
    "        state = handleAction(action, state);\n",
    "        app.syncState(state);\n",
    "    }\n",
    "    \n",
    "    pollTalks(talks => {\n",
    "        if (!app) {\n",
    "            let state = { user, talks };\n",
    "            \n",
    "            app = new SkillShareApp(state, dispatch);\n",
    "            document.body.appendChild(app.dom);\n",
    "        } else {\n",
    "            dispatch({type: \"setTalks\", talks });\n",
    "        }\n",
    "    }).catch(reportError);\n",
    "}\n",
    "\n",
    "// We can start the application like this:\n",
    "runApp();"
   ]
  }
 ],
 "metadata": {
  "kernelspec": {
   "display_name": "Javascript (Node.js)",
   "language": "javascript",
   "name": "javascript"
  },
  "language_info": {
   "file_extension": ".js",
   "mimetype": "application/javascript",
   "name": "javascript",
   "version": "8.9.3"
  }
 },
 "nbformat": 4,
 "nbformat_minor": 2
}
