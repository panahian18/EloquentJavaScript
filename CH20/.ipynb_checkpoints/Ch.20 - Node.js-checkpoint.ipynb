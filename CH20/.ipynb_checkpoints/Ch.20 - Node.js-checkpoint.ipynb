{
 "cells": [
  {
   "cell_type": "markdown",
   "metadata": {},
   "source": [
    "# Node.js\n",
    "\n",
    "Node.js is a program that allows users to run javascript outside of the browser. It can be used to write anything from the command line tools to HTTP servers. \n",
    "\n",
    "One of the most difficult aspects of writing programs that communicate over a network is managing input and output, that is data going from the network and hard drive. Especially in a way that schedules it efficiently. In such a program, asynchronous programming is often helpful, as it allows the program to send and receive data from multiple devices at the same time without complicated thread management and synchronization. \n",
    "\n",
    "Node was initially conceived for the purpose of making asyncrhonous programming easy and convenient. Asyncrhonous programs allow the program send and receive data from and to multiple devices at the same time without complicated thread management and synchronization. JS does not have a built-in appraoch to do input and output, which allows it to easily adopt node's way of I/O."
   ]
  },
  {
   "cell_type": "markdown",
   "metadata": {},
   "source": [
    "## The Node Command \n",
    "\n",
    "Installing Node.js gives you a command called node, which you can use to run JavaScript files. E.g. if you have a simple \"Hello, World\" program in a file called hello.js then you can run it like so:\n",
    "\n",
    "$ node hello.js\n",
    "<br>-> \"Hello, World\""
   ]
  },
  {
   "cell_type": "markdown",
   "metadata": {},
   "source": [
    "The console.log() method is similar to the one in the browser, but instead of going to the browser's console, the text goes to the process's standard output stream. You can also run node without a file, which will then allow you to write code, which will then immediately execute.\n",
    "\n",
    "The process binding, just like the console binding, is available gloablly in Node, which provides various ways to inspect and manipulate the current program. The exit method ends the process and can be given an exit status code that informs the program that started the code whether it ended successfully (code 0) or not (any other code).\n",
    "\n",
    "To find the command line argument given to your script, you can read process.argv, which is an array of strings, the first argument is \"node\", and the second is the name of your program, so the arguments really start at index 2."
   ]
  },
  {
   "cell_type": "markdown",
   "metadata": {},
   "source": [
    "## Modules\n",
    "\n",
    "Node doesn't have any bindings beyond console and process in the global scope, in order to access built-in functionality, you have to ask the module system for it. Node uses the CommonJS module system (based on the require function) to load built-in modules and downloaded ones.\n",
    "\n",
    "When the string is passed to require, it has to resolve it to an actual file that it can load, so you can pass things like /, ./, or ../, which are relative to the current module's path. If the path refers to a directory, node will try to load the file named index.js in that directory. If what's passed to require does not resemble a relative or absolute path, then it is assumed to refer to a built-in or installed module in a node_modules directory."
   ]
  },
  {
   "cell_type": "code",
   "execution_count": null,
   "metadata": {},
   "outputs": [],
   "source": [
    "// Here we set up a small project consisting of 2 files, the first one, \n",
    "// called main.js, defines a script that can be called from the command line \n",
    "// to reverse a string.\n",
    "\n",
    "const {reverse} = require(\"./reverse\");\n",
    "\n",
    "// Index 2 holds the first actual command line argument.\n",
    "let argument = process.argv[2];\n",
    "\n",
    "// The file reverse.js defiens a library for reversing strings, which can be\n",
    "// used both by this command line tool and other scripts that need direct \n",
    "// access to a string-reversing function.\n",
    "exports.reverse = function(string) {\n",
    "    return Array.from(string).reverse().join(\"\");\n",
    "};\n",
    "\n",
    "$ node main.js JavaScript\n",
    "// -> tpircSavaJ"
   ]
  },
  {
   "cell_type": "markdown",
   "metadata": {},
   "source": [
    "## Installing with NPM\n",
    "\n",
    "NPM has an online repository of JavaScript modules. When you install Node, you also get the npm command, which you use to interact with this repository. NPM's main use is to download packages. We can use npm to install the ini package, like so:\n",
    "\n",
    "$ npm install ini\n",
    "\n",
    "Running npm install will create a directory called node_modules, inside of which is the ini directory that contains the library. When we call require(\"ini\"), this library is loaded and we can call its parse property.\n",
    "\n",
    "$ node \n",
    "> const {parse} = require(\"ini\");\n",
    "> parse(\"x = 1\\ny = 2\");\n",
    "{x: '1', y: '2'}\n",
    "\n",
    "NPM by default installs packages under the current directory. In the above example, NPM gave a warning because the package.json file didn't exist. It is recommended to create such a file for each project, either manually or by running npm init. It contains information about the project such as the name and version, and lists its dependencies "
   ]
  },
  {
   "cell_type": "code",
   "execution_count": null,
   "metadata": {},
   "outputs": [],
   "source": [
    "// Here is an example of such a file, this is for the robot project from ch.7\n",
    "{\n",
    "    \"author\": \"Marijn Haverbeke\",\n",
    "    \"name\": \"eloquent-javascript-robot\",\n",
    "    \"description\": \"Simulation of a package-delivery robot\",\n",
    "    \"version\": \"1.0.0\",\n",
    "    \"main\": \"run.js\",\n",
    "    \"dependencies\": {\n",
    "        \"dijkstrajs\": \"^1.0.1\",\n",
    "        \"random-item\": \"^1.0.0\"\n",
    "    },\n",
    "    \"license\": \"ISC\"\n",
    "}"
   ]
  },
  {
   "cell_type": "markdown",
   "metadata": {},
   "source": [
    "When you run npm init without naming a package to install, npm will install the dependencies listed in package.json. When you install a specific package that is not already listed as a dependency, npm will add it to the package.json. \n",
    "\n",
    "A package.json file lists both the program's own version and versions for its dependencies. Packages evolve and eventually, code written for one package may not work with a modified version of the package. NPM has a schema that packages must follow, called semantic versioning. A semantic version consits of 3 numbers separated by commas, e.g. 2.3.0.\n",
    "\n",
    "Everytime a new functionality is added, the middle number needs to be incremented and everytime compatibility is broken, so that existing code that uses the package might not work with the new version, the first number needs to be incremented. The third character represents backwards-compatible bug fixes. A caret character (^) in front of the dependency number in package.json means that any code that is compatible with the given number may be installed. E.g. ^2.3.0 means that any version greater than 2.3.0 but less than 3.0.0 is allowed."
   ]
  },
  {
   "cell_type": "markdown",
   "metadata": {},
   "source": [
    "## The File System Module\n",
    "\n",
    "The file system (fs) is the most commonly used built-in module in Node. It provides functions for working with files and directories. E.g. readFile reads a file and then calls a callback with the file's contents."
   ]
  },
  {
   "cell_type": "code",
   "execution_count": null,
   "metadata": {},
   "outputs": [],
   "source": [
    "let {readFile} = require(\"fs\");\n",
    "readFile(\"file.txt\", \"utf8\", (error, text) => {\n",
    "   if (error) throw error;\n",
    "   console.log(\"The file contains:\", text);\n",
    "});\n",
    "\n",
    "// The second argument to readFile indicates the character encoding, the standard\n",
    "// is UTF-8, if no information is provided then the function will return a buffer object.\n",
    "\n",
    "const {readFile} = require(\"fs\");\n",
    "readFile(\"file.txt\", (error, buffer) => {\n",
    "    if (error) throw error;\n",
    "    console.log(\"The file contained\", buffer.length, \"bytes.\",\n",
    "               \"The first byte is:\", buffer[0]);\n",
    "});\n",
    "\n",
    "// A similar function, writeFile is used to write a file to a disk.\n",
    "const {writeFile} = require(\"fs\");\n",
    "writeFile(\"graffiti.txt\", \"Node was here\", err => {\n",
    "    if (err) console.log(`Failed to write to file ${err}`);\n",
    "    else console.log(\"File written.\");\n",
    "});\n",
    "\n",
    "// Note: writeFile does not need a char encoding passed to it, because it \n",
    "// assumes to write out text in UTF-8."
   ]
  },
  {
   "cell_type": "markdown",
   "metadata": {},
   "source": [
    "The fs module contains many other useful functions: readdir will return the files in a directory as an array of strings, stat will retrieve information about a file, rename will rename a file, unlink will remove one, and so on. The documentation at https://nodejs.org has more details.\n",
    "\n",
    "Most of the functions of fs take callbacks as the last parameter, which they call either with an error or successful result. However, callbacks have their downsides, one being that error handling becomes verbose and error prone. Nodejs is still integrating all features of ES6, including promises. There is an object called promises exported from the fs package that has the same functions as fs but uses promises instead of callbacks."
   ]
  },
  {
   "cell_type": "code",
   "execution_count": null,
   "metadata": {},
   "outputs": [],
   "source": [
    "const {readFile} = require(\"fs\").promises;\n",
    "readFile(\"file.txt\", \"utf-8\")\n",
    "    .then(text => console.log(\"The file contains:\", text));\n",
    "\n",
    "// Many of the functions in fs have a synchronous variant, which has the same \n",
    "// name but with Sync added to the end. Doing this however, will cause the \n",
    "// entire program to stop while the syncrhonous action is being performed. E.g.\n",
    "\n",
    "const {readFileSync} = require(\"fs\");\n",
    "console.log(\"The file contains:\", readFileSync(\"file.txt\", \"utf8\"));"
   ]
  },
  {
   "cell_type": "markdown",
   "metadata": {},
   "source": [
    "## The HTTP Module\n",
    "\n",
    "Another very important module is called http. It provides functionality for running servers and making HTTP requests. This is all it takes to start an HTTP server:"
   ]
  },
  {
   "cell_type": "code",
   "execution_count": null,
   "metadata": {},
   "outputs": [],
   "source": [
    "const {createServer} = require(\"http\");\n",
    "let server = createServer((request, response) => {\n",
    "    response.writeHead(200, {\"Content-Type\": \"text/html\"});\n",
    "    response.write(`\n",
    "        <h1>Hello!</h1>\n",
    "        <p>You asked for <code>${request.url}</code></p>`);\n",
    "    response.end();\n",
    "});\n",
    "server.listen(8000);\n",
    "console.log(\"Listening to (port 8000)\");"
   ]
  },
  {
   "cell_type": "markdown",
   "metadata": {},
   "source": [
    "Running this script using node will allow the browser to access a website at http://localhost:8000/hello, this will make the browser make a request to our server.\n",
    "\n",
    "The function passed to createServer will be called everytime a client connects to the server. The request and response bindings are objects representing the incoming and outgoing data. The first contains information about the request, such as its url property, which tells us to what URL the request was made. When that page is opened in the browser, it sends a request to your own computer, this causes the server to run and send back a response, which you can see in the browser. \n",
    "\n",
    "Sending information back is done on the response object, the first method is writeHead, which will write out the response headers. You give it the status code (in this caase 200 for \"OK\"), and an object that contains the header values. This example sets the Content-Type header to inform the client that we'll be sending back an HTML document.\n",
    "\n",
    "The actual response body is sent using response.write. This method can be called multiple times, to send data piecemeal, e.g. streaming data as it becomes available. Finally, response.end signals the end of the response.\n",
    "\n",
    "server.listen(800) causes the server to start listening for connections on port 8000, which is why you have to connect to localHost:8000 so speak to the server and not just localHost, which would use the default port 80. Running this script will cause the process to sit and wait, listening for events, in this case network connections, to exit, you have to use ctrl-c. Note a real webserver will check to see what type of request is being made and looks at the URL to find out which resource this aaction is being performed on."
   ]
  },
  {
   "cell_type": "code",
   "execution_count": null,
   "metadata": {},
   "outputs": [],
   "source": [
    "// To act as an HTTP client, we can use the request function in the http module\n",
    "const {request} = require(\"http\");\n",
    "let requestStream = request({\n",
    "    hostname: \"eloquentjavascript.net\",\n",
    "    path: :\"/20_node.html\",\n",
    "    method: \"GET\",\n",
    "    headers: {Accept: \"text/html\"}\n",
    "}, response => {\n",
    "        console.log(\"Server responded with status code\",\n",
    "            response.statusCode);\n",
    "});\n",
    "requestStream.end();"
   ]
  },
  {
   "cell_type": "markdown",
   "metadata": {},
   "source": [
    "The first argument to request configures the request, telling Node what server to talk to, what path to request from that server, which method to use, etc. The second argument is the function that should be called when a response comes in. It is given an object that allows us to inspect the response, for example to find out its status code.\n",
    "\n",
    "The object returned by request allows us to stream data into the request with the write method and finish with the end method. The example does not use write because GET requests should not contain data in their request body. There is a similar request function in the https module that can be used to make requests to https: URLs.\n",
    "\n",
    "Making requests with Node's raw functionality is rather verbose, so there are much more convenient wrapper packages available on NPM, E.g. node-fetch provides the promise-based fetch interface."
   ]
  },
  {
   "cell_type": "markdown",
   "metadata": {},
   "source": [
    "## Streams\n",
    "\n",
    "So far we have seen two instances of writable streams in the http examples above, the request and response objects. These writable streams are a widely used concept in Node, these objects have a write method, which can be passed a Buffer or a string. The end method closes the stream, it can optionally take a value to write to the stream before closing. Both of these methods can take a callback function to call when they are done. \n",
    "\n",
    "It is also possible to use createWriteSream from the fs module to create a writable stream that points at a file. Then you can use the write method on the resulting object to write the file one piece at a time, rather than in one shot as with writeFile. \n",
    "\n",
    "Both response and request are readable streams, a server reads requests then writes responses, while the client first writes requests then reads the response. Reading from a stream is done using event handlers, rather than methods.\n",
    "\n",
    "Objects that emit events in Node have a method called \"on\" that is similar to the addEventListener method in the browser. You give it an event name and then a function, and it will register that function to be called whenever the given event occurs.\n",
    "\n",
    "Readable streams have \"data\" and \"end\" events. The first is fired every time data comes in, and the second is called whenever the stream is at its end. This model is well suited for streaming data that can be processed immediately, even when the whole document isn't available yet. A file can be read as a readable stream by using createReadStream from fs."
   ]
  },
  {
   "cell_type": "code",
   "execution_count": null,
   "metadata": {},
   "outputs": [],
   "source": [
    "const {createServer} = require(\"http\");\n",
    "createServer((request, response) => {\n",
    "    response.writeHead(200, {\"Content-Type\": \"text/plain\"});\n",
    "    request.on(\"data\", chunk => {\n",
    "        response.write(chunk.toString().toUpperCase()));\n",
    "    request.on(\"end\", () => response.end());\n",
    "}).listen(8000);"
   ]
  },
  {
   "cell_type": "markdown",
   "metadata": {},
   "source": [
    "The chunk value needed to be converted to a string because the data is a binary buffer.\n",
    "\n",
    "The following, when run with the uppercasing server active, will send a request to that server and write out the response it gets."
   ]
  },
  {
   "cell_type": "code",
   "execution_count": null,
   "metadata": {},
   "outputs": [],
   "source": [
    "const {request} = require(\"http\");\n",
    "request({\n",
    "    hostname: \"localhost\",\n",
    "    port: 8000,\n",
    "    method: \"POST\"\n",
    "}, response => {\n",
    "    response.on(\"data\", chunk => {\n",
    "        process.stdout.write(chunk.toString()));\n",
    "}).end(\"Hello Server\");"
   ]
  },
  {
   "cell_type": "markdown",
   "metadata": {},
   "source": [
    "The above example writes to process.stdout (the process's standard output) instead of using console.log, because console.log adds an extra newline after each peice of text that it writes, which isn't appropriate here since the response may come in as multiple chunks."
   ]
  },
  {
   "cell_type": "markdown",
   "metadata": {},
   "source": [
    "## A File Server\n",
    "\n",
    "Here we will bridge the gap between an HTTP server and the file system, to create an HTTP server that allows remote access to a file system. Such a server can allow web apps to store and share info, give multiple people shared access to files, etc.\n",
    "\n",
    "When we treat our files as HTTP resources, the HTTP methods, GET, PUT, and DELETE can be used to read, write, and delete the files, respectively. We will interpret the path in the request as the path of the file the request refers to. Because we don't want to share our whole file system, we'll interpret these paths as starting from the server's working directory, e.g. this could be /tmp/public, so a request for /file.txt should refer to /tmp/public/file.txt\n",
    "\n",
    "We will build our program one piece at a time, using an object called methods to store the functions that will handle the various HTTP methods. Method handlers are async functions that get the request object as an argument and return a promise that resolves to an object that describes the response. "
   ]
  },
  {
   "cell_type": "code",
   "execution_count": null,
   "metadata": {},
   "outputs": [],
   "source": [
    "const {createServer} = require(\"http\");\n",
    "const methods = Object.create(null);\n",
    "\n",
    "createServer((request, response) => {\n",
    "    let handler = methods[request.metohd] || notAllowed;\n",
    "    handler(request)\n",
    "        .catch(error => {\n",
    "            if (catch.status != null) return error;\n",
    "            return {body: status, status: 500};\n",
    "    })\n",
    "    .then(({body, status = 200, type =\"text/plain\"}) => {\n",
    "        response.writeHead(staus, {\"Content-Type\": type});\n",
    "        if (body && body.pipe) body.pipe(response);\n",
    "        else reponse.end(body);\n",
    "    });\n",
    "}).listen(8000);\n",
    "\n",
    "async function notAllowed(request) {\n",
    "    return {\n",
    "        status: 405,\n",
    "        body: `Method ${request.method} not allowed.`\n",
    "    };\n",
    "}"
   ]
  },
  {
   "cell_type": "markdown",
   "metadata": {},
   "source": [
    "This sets up a server that will check for a http method and execute it, so far, however, we have not added any so it will just call notAllowed. If the request handler's promise is rejected, the catch call translates the error into a response object.\n",
    "\n",
    "The status and type "
   ]
  }
 ],
 "metadata": {
  "kernelspec": {
   "display_name": "Javascript (Node.js)",
   "language": "javascript",
   "name": "javascript"
  },
  "language_info": {
   "file_extension": ".js",
   "mimetype": "application/javascript",
   "name": "javascript",
   "version": "8.9.3"
  }
 },
 "nbformat": 4,
 "nbformat_minor": 2
}
